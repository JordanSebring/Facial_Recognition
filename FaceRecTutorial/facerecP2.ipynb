{
 "cells": [
  {
   "cell_type": "code",
   "execution_count": null,
   "id": "e8b6e4ed-f911-49c1-b5c4-64111ef64b48",
   "metadata": {},
   "outputs": [],
   "source": [
    "import cv2\n",
    "import numpy as np\n",
    "import os\n",
    "os.environ['TF_CPP_MIN_LOG_LEVEL'] = '2'\n",
    "import tensorflow as tf\n",
    "from sklearn.preprocessing import LabelEncoder\n",
    "import pickle\n",
    "from keras_facenet import FaceNet\n",
    "\n"
   ]
  },
  {
   "cell_type": "code",
   "execution_count": null,
   "id": "3cc874ec-786b-47f5-bebb-e790e5b21484",
   "metadata": {},
   "outputs": [],
   "source": [
    "import time"
   ]
  },
  {
   "cell_type": "code",
   "execution_count": null,
   "id": "de3b00aa-be3c-4ca5-a17c-6d8bf4f3ba7c",
   "metadata": {},
   "outputs": [],
   "source": [
    "from utils import streaming_utils_Tut\n",
    "streaming_utils_Tut.getStream(0)"
   ]
  },
  {
   "cell_type": "code",
   "execution_count": null,
   "id": "d8c53637-2575-4e6b-8ddb-29a6b188a2ca",
   "metadata": {},
   "outputs": [],
   "source": [
    "#initialize\n",
    "facenet = FaceNet()\n",
    "faces_embeddings = np.load(\"faces_embeddings_done_4classes.npz\")\n",
    "Y = faces_embeddings['arr_1'] # 0 is for X array, 1 is for Y array\n",
    "encoder = LabelEncoder()\n",
    "encoder.fit(Y)\n",
    "haarcascade = cv2.CascadeClassifier(\"/Users/intern5/Downloads/haarcascade_frontalface_default.xml\") #our face detection model, will probably be mediapipes facenet\n",
    "model = pickle.load(open(\"svm_model_160x160.pkl\", 'rb'))\n",
    "#its the image classifier, will use instead of mediaPipes version because this one specializes in faces whereas mediapipes does not. need to download this though\n",
    "# Start video capture\n",
    "cap = streaming_utils_Tut.getStream()\n",
    "if not cap.read()[0]:\n",
    "    print(\"[ERROR] Cannot open webcam.\")\n"
   ]
  },
  {
   "cell_type": "code",
   "execution_count": null,
   "id": "24994db0-5814-4131-9334-88b36673feba",
   "metadata": {},
   "outputs": [],
   "source": []
  },
  {
   "cell_type": "code",
   "execution_count": null,
   "id": "00d53dc3-ae7f-4890-99b0-1d4d5be66960",
   "metadata": {},
   "outputs": [],
   "source": [
    "\n",
    "while cap.isOpened():\n",
    "    _, frame = cap.read()\n",
    "    rgb_img = cv2.cvtColor(frame, cv2.COLOR_BGR2RGB)\n",
    "    gray_img = cv2.cvtColor(frame, cv2.COLOR_BGR2GRAY)\n",
    "    start_detect = time.time()\n",
    "    faces = haarcascade.detectMultiScale(gray_img, 1.3, 5) #detects faces in grayscale images and returns a list of rects xywh for each face\n",
    "    end_detect = time.time()\n",
    "    detection_latency_ms = (end_detect - start_detect) * 1000\n",
    "    print(f\"Face detection latency: {detection_latency_ms:.2f} ms\")\n",
    "\n",
    "    for x,y,w,h in faces:\n",
    "        img = rgb_img[y:y+h, x:x+w] # crops to isolate detected face\n",
    "        img = cv2.resize(img, (160,160)) # 1x160x160x3 # resizes to 160x160\n",
    "        img = np.expand_dims(img,axis=0) # specifications for image for the neural network\n",
    "        ypred = facenet.embeddings(img) #passes face to facenet which returns a 512 dim vector\n",
    "        face_name = model.predict(ypred) # predictor\n",
    "        final_name = encoder.inverse_transform(face_name)\n",
    "        cv2.rectangle(frame, (x,y), (x+w,y+h), (255,0,255), 10)\n",
    "        cv2.putText(frame, str(final_name), (x,y-10), cv2.FONT_HERSHEY_SIMPLEX,\n",
    "                   1, (0,0,255), 3, cv2.LINE_AA)\n",
    "\n",
    "    cv2.imshow(\"Face Recognition:\", frame)\n",
    "    if cv2.waitKey(1) & ord('q') ==27:\n",
    "        break\n",
    "\n",
    "cap.release()\n",
    "cv2.destroyAllWindows"
   ]
  },
  {
   "cell_type": "code",
   "execution_count": null,
   "id": "499a8f88-aab5-4c2d-b891-4d15eb421cae",
   "metadata": {},
   "outputs": [],
   "source": [
    "#currently tensorflow mid to highy 60s\n",
    "# face detection is in the high 20s "
   ]
  }
 ],
 "metadata": {
  "kernelspec": {
   "display_name": "Python [conda env:base] *",
   "language": "python",
   "name": "conda-base-py"
  },
  "language_info": {
   "codemirror_mode": {
    "name": "ipython",
    "version": 3
   },
   "file_extension": ".py",
   "mimetype": "text/x-python",
   "name": "python",
   "nbconvert_exporter": "python",
   "pygments_lexer": "ipython3",
   "version": "3.12.7"
  }
 },
 "nbformat": 4,
 "nbformat_minor": 5
}
