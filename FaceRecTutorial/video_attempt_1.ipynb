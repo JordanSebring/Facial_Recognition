{
 "cells": [
  {
   "cell_type": "markdown",
   "metadata": {
    "id": "eC0HahfNUFHj"
   },
   "source": [
    "## Preparation"
   ]
  },
  {
   "cell_type": "code",
   "execution_count": 4,
   "metadata": {
    "colab": {
     "base_uri": "https://localhost:8080/"
    },
    "id": "jxCvgdROT4PQ",
    "outputId": "e567e9d6-afd3-4470-8b99-a52ba6e9e157"
   },
   "outputs": [
    {
     "name": "stdout",
     "output_type": "stream",
     "text": [
      "Requirement already satisfied: mediapipe==0.10.15 in /opt/anaconda3/lib/python3.12/site-packages (0.10.15)\n",
      "Requirement already satisfied: absl-py in /opt/anaconda3/lib/python3.12/site-packages (from mediapipe==0.10.15) (2.3.0)\n",
      "Requirement already satisfied: attrs>=19.1.0 in /opt/anaconda3/lib/python3.12/site-packages (from mediapipe==0.10.15) (23.1.0)\n",
      "Requirement already satisfied: flatbuffers>=2.0 in /opt/anaconda3/lib/python3.12/site-packages (from mediapipe==0.10.15) (25.2.10)\n",
      "Requirement already satisfied: jax in /opt/anaconda3/lib/python3.12/site-packages (from mediapipe==0.10.15) (0.4.38)\n",
      "Requirement already satisfied: jaxlib in /opt/anaconda3/lib/python3.12/site-packages (from mediapipe==0.10.15) (0.4.38)\n",
      "Requirement already satisfied: matplotlib in /opt/anaconda3/lib/python3.12/site-packages (from mediapipe==0.10.15) (3.9.2)\n",
      "Requirement already satisfied: numpy<2 in /opt/anaconda3/lib/python3.12/site-packages (from mediapipe==0.10.15) (1.26.4)\n",
      "Requirement already satisfied: opencv-contrib-python in /opt/anaconda3/lib/python3.12/site-packages (from mediapipe==0.10.15) (4.11.0.86)\n",
      "Requirement already satisfied: protobuf<5,>=4.25.3 in /opt/anaconda3/lib/python3.12/site-packages (from mediapipe==0.10.15) (4.25.3)\n",
      "Requirement already satisfied: sounddevice>=0.4.4 in /opt/anaconda3/lib/python3.12/site-packages (from mediapipe==0.10.15) (0.5.2)\n",
      "Requirement already satisfied: CFFI>=1.0 in /opt/anaconda3/lib/python3.12/site-packages (from sounddevice>=0.4.4->mediapipe==0.10.15) (1.17.1)\n",
      "Requirement already satisfied: ml_dtypes>=0.4.0 in /opt/anaconda3/lib/python3.12/site-packages (from jax->mediapipe==0.10.15) (0.5.1)\n",
      "Requirement already satisfied: opt_einsum in /opt/anaconda3/lib/python3.12/site-packages (from jax->mediapipe==0.10.15) (3.4.0)\n",
      "Requirement already satisfied: scipy>=1.10 in /opt/anaconda3/lib/python3.12/site-packages (from jax->mediapipe==0.10.15) (1.13.1)\n",
      "Requirement already satisfied: contourpy>=1.0.1 in /opt/anaconda3/lib/python3.12/site-packages (from matplotlib->mediapipe==0.10.15) (1.2.0)\n",
      "Requirement already satisfied: cycler>=0.10 in /opt/anaconda3/lib/python3.12/site-packages (from matplotlib->mediapipe==0.10.15) (0.11.0)\n",
      "Requirement already satisfied: fonttools>=4.22.0 in /opt/anaconda3/lib/python3.12/site-packages (from matplotlib->mediapipe==0.10.15) (4.51.0)\n",
      "Requirement already satisfied: kiwisolver>=1.3.1 in /opt/anaconda3/lib/python3.12/site-packages (from matplotlib->mediapipe==0.10.15) (1.4.4)\n",
      "Requirement already satisfied: packaging>=20.0 in /opt/anaconda3/lib/python3.12/site-packages (from matplotlib->mediapipe==0.10.15) (24.1)\n",
      "Requirement already satisfied: pillow>=8 in /opt/anaconda3/lib/python3.12/site-packages (from matplotlib->mediapipe==0.10.15) (10.4.0)\n",
      "Requirement already satisfied: pyparsing>=2.3.1 in /opt/anaconda3/lib/python3.12/site-packages (from matplotlib->mediapipe==0.10.15) (3.1.2)\n",
      "Requirement already satisfied: python-dateutil>=2.7 in /opt/anaconda3/lib/python3.12/site-packages (from matplotlib->mediapipe==0.10.15) (2.9.0.post0)\n",
      "Requirement already satisfied: pycparser in /opt/anaconda3/lib/python3.12/site-packages (from CFFI>=1.0->sounddevice>=0.4.4->mediapipe==0.10.15) (2.21)\n",
      "Requirement already satisfied: six>=1.5 in /opt/anaconda3/lib/python3.12/site-packages (from python-dateutil>=2.7->matplotlib->mediapipe==0.10.15) (1.16.0)\n"
     ]
    }
   ],
   "source": [
    "!pip install mediapipe==0.10.15"
   ]
  },
  {
   "cell_type": "code",
   "execution_count": 6,
   "metadata": {},
   "outputs": [],
   "source": [
    "# Imports\n",
    "import cv2\n",
    "import time\n",
    "import mediapipe as mp\n",
    "\n"
   ]
  },
  {
   "cell_type": "code",
   "execution_count": 15,
   "metadata": {},
   "outputs": [
    {
     "name": "stdout",
     "output_type": "stream",
     "text": [
      "['BaseOptions', '__builtins__', '__cached__', '__doc__', '__file__', '__loader__', '__name__', '__package__', '__path__', '__spec__', 'audio', 'components', 'genai', 'text', 'vision']\n"
     ]
    }
   ],
   "source": [
    "print(dir(mp.tasks))"
   ]
  },
  {
   "cell_type": "code",
   "execution_count": 17,
   "metadata": {},
   "outputs": [
    {
     "ename": "ImportError",
     "evalue": "cannot import name 'BaseOptions' from 'mediapipe.tasks' (/opt/anaconda3/lib/python3.12/site-packages/mediapipe/tasks/__init__.py)",
     "output_type": "error",
     "traceback": [
      "\u001b[0;31m---------------------------------------------------------------------------\u001b[0m",
      "\u001b[0;31mImportError\u001b[0m                               Traceback (most recent call last)",
      "Cell \u001b[0;32mIn[17], line 2\u001b[0m\n\u001b[1;32m      1\u001b[0m \u001b[38;5;66;03m#from mediapipe.tasks import vision\u001b[39;00m\n\u001b[0;32m----> 2\u001b[0m \u001b[38;5;28;01mfrom\u001b[39;00m \u001b[38;5;21;01mmediapipe\u001b[39;00m\u001b[38;5;21;01m.\u001b[39;00m\u001b[38;5;21;01mtasks\u001b[39;00m \u001b[38;5;28;01mimport\u001b[39;00m BaseOptions\n\u001b[1;32m      3\u001b[0m \u001b[38;5;28;01mfrom\u001b[39;00m \u001b[38;5;21;01mmediapipe\u001b[39;00m\u001b[38;5;21;01m.\u001b[39;00m\u001b[38;5;21;01mtasks\u001b[39;00m\u001b[38;5;21;01m.\u001b[39;00m\u001b[38;5;21;01mvision\u001b[39;00m\u001b[38;5;21;01m.\u001b[39;00m\u001b[38;5;21;01mobject_detector\u001b[39;00m \u001b[38;5;28;01mimport\u001b[39;00m ObjectDetector\n\u001b[1;32m      4\u001b[0m \u001b[38;5;28;01mfrom\u001b[39;00m \u001b[38;5;21;01mmediapipe\u001b[39;00m\u001b[38;5;21;01m.\u001b[39;00m\u001b[38;5;21;01mtasks\u001b[39;00m\u001b[38;5;21;01m.\u001b[39;00m\u001b[38;5;21;01mvision\u001b[39;00m\u001b[38;5;21;01m.\u001b[39;00m\u001b[38;5;21;01mobject_detector\u001b[39;00m \u001b[38;5;28;01mimport\u001b[39;00m ObjectDetectorOptions\n",
      "\u001b[0;31mImportError\u001b[0m: cannot import name 'BaseOptions' from 'mediapipe.tasks' (/opt/anaconda3/lib/python3.12/site-packages/mediapipe/tasks/__init__.py)"
     ]
    }
   ],
   "source": [
    "#from mediapipe.tasks import vision\n",
    "from mediapipe.tasks import BaseOptions\n",
    "from mediapipe.tasks.vision.object_detector import ObjectDetector\n",
    "from mediapipe.tasks.vision.object_detector import ObjectDetectorOptions\n",
    "\n",
    "from mediapipe.tasks.components.processors import running_mode"
   ]
  },
  {
   "cell_type": "code",
   "execution_count": null,
   "metadata": {},
   "outputs": [],
   "source": []
  },
  {
   "cell_type": "code",
   "execution_count": 3,
   "metadata": {},
   "outputs": [
    {
     "name": "stdout",
     "output_type": "stream",
     "text": [
      "\n",
      "CondaError: Run 'conda init' before 'conda activate'\n",
      "\n",
      "\n",
      "Note: you may need to restart the kernel to use updated packages.\n"
     ]
    }
   ],
   "source": []
  },
  {
   "cell_type": "code",
   "execution_count": null,
   "metadata": {},
   "outputs": [],
   "source": []
  },
  {
   "cell_type": "code",
   "execution_count": null,
   "metadata": {
    "id": "QBDDu7_EUYN2"
   },
   "outputs": [],
   "source": [
    "from utils import streaming_utils_Tut\n",
    "streaming_utils_Tut.getStream(0)\n",
    "\n",
    "cap = streaming_utils_Tut.getStream()"
   ]
  },
  {
   "cell_type": "code",
   "execution_count": null,
   "metadata": {},
   "outputs": [],
   "source": [
    "\n",
    "\n",
    "\n",
    "# Access enum like:\n",
    "mode = running_mode.RunningMode.LIVE_STREAM\n",
    "\n",
    "\n",
    "# Callback function to handle detection results\n",
    "def detection_callback(result, output_image, timestamp_ms):\n",
    "    print(\"🔎 Detection at\", timestamp_ms, \"ms\")\n",
    "    for det in result.detections:\n",
    "        category = det.categories[0]\n",
    "        print(f\" - {category.category_name}: {category.score:.2f}\")\n",
    "\n",
    "# Load model\n",
    "MODEL_PATH = '/Users/intern5/Downloads/efficientdet_lite0-2.tflite'\n",
    "\n",
    "# Configure options\n",
    "options = ObjectDetectorOptions(\n",
    "    base_options=BaseOptions(model_asset_path=MODEL_PATH),\n",
    "    running_mode=RunningMode.LIVE_STREAM,\n",
    "    score_threshold=0.5,\n",
    "    max_results=3,\n",
    "    result_callback=detection_callback\n",
    ")\n",
    "\n",
    "# Create detector\n",
    "detector = ObjectDetector.create_from_options(options)\n",
    "\n",
    "# Start webcam\n",
    "\n",
    "timestamp = 0\n",
    "\n",
    "try:\n",
    "    while cap.isOpened():\n",
    "        ret, frame = cap.read()\n",
    "        if not ret:\n",
    "            break\n",
    "\n",
    "        timestamp = int(time.time() * 1000)\n",
    "        # Convert image to MediaPipe format\n",
    "        mp_image = mp.Image(image_format=mp.ImageFormat.SRGB, data=frame)\n",
    "\n",
    "        # Async detect\n",
    "        detector.detect_async(mp_image, timestamp)\n",
    "\n",
    "        # Show image\n",
    "        cv2.imshow(\"Live Object Detection\", frame)\n",
    "        if cv2.waitKey(5) & 0xFF == 27:  # Press Esc to exit\n",
    "            break\n",
    "finally:\n",
    "    cap.release()\n",
    "    cv2.destroyAllWindows()\n",
    "    detector.close()\n"
   ]
  },
  {
   "cell_type": "code",
   "execution_count": null,
   "metadata": {
    "colab": {
     "base_uri": "https://localhost:8080/",
     "height": 421
    },
    "id": "Nqzww952Ubiq",
    "outputId": "20900eda-bc87-4e7c-a042-214e6b919a1a"
   },
   "outputs": [],
   "source": [
    "import cv2\n",
    "import mediapipe as mp\n",
    "import os\n",
    "# print(\"before\")\n",
    "\n",
    "model_path = '/Users/intern5/Downloads/efficientdet_lite0-2.tflite'\n",
    "print(\"before\")\n",
    "# Set up MediaPipe components\n",
    "BaseOptions = mp.tasks.BaseOptions\n",
    "DetectionResult = mp.tasks.vision.ObjectDetectorResult\n",
    "ObjectDetector = mp.tasks.vision.ObjectDetector\n",
    "ObjectDetectorOptions = mp.tasks.vision.ObjectDetectorOptions\n",
    "VisionRunningMode = mp.tasks.vision.RunningMode.LIVE_STREAM\n",
    "Image = mp.Image\n",
    "\n",
    "# Callback function for results\n",
    "def print_result(result: DetectionResult, output_image: mp.Image, timestamp_ms: int):\n",
    "    print('Detection result: {}', result)\n",
    "\n",
    "print(\"before1\")\n",
    "\n",
    "# Define the model path\n",
    "# model_path = 'efficientdet_lite0.tflite'\n",
    "# Check if the model file exists\n",
    "if not os.path.exists(model_path):\n",
    "    print(f\"Error: Model file not found at {model_path}. Please ensure the wget command downloaded it successfully.\")\n",
    "    # You might want to exit or handle this error more gracefully\n",
    "    exit() # Exit if the file is not found\n",
    "\n",
    "# ✅ Configure detector options\n",
    "try:\n",
    "    print(\"[INFO] Creating ObjectDetector options...\")\n",
    "    # Setup options\n",
    "    options = ObjectDetectorOptions(\n",
    "        base_options=BaseOptions(model_asset_path=model_path),\n",
    "        running_mode=VisionRunningMode.LIVE_STREAM,\n",
    "        max_results=5,\n",
    "        result_callback=print_result\n",
    "    )\n",
    "except Exception as e:\n",
    "    print(\"[ERROR] Failed to create ObjectDetectorOptions.\")\n",
    "    traceback.print_exc()\n",
    "    exit()\n",
    "\n",
    "# OpenCV video capture\n",
    "# cap = cv2.VideoCapture(0, cv2.CAP_QT)  # Change to a video file path if needed\n",
    "# if not cap.read()[0]:\n",
    "#     print(\"[ERROR] Cannot open webcam.\")\n",
    "\n",
    "# Initialize detector\n",
    "with ObjectDetector.create_from_options(options) as detector:\n",
    "    while cap.isOpened():\n",
    "        ret, frame = cap.read()\n",
    "        if not ret:\n",
    "            break\n",
    "\n",
    "        # Convert BGR to RGB (MediaPipe expects RGB)\n",
    "        frame_rgb = cv2.cvtColor(frame, cv2.COLOR_BGR2RGB)\n",
    "\n",
    "        # Create a MediaPipe Image object\n",
    "        mp_image = Image(image_format=Image.ImageFormat.SRGB, data=frame_rgb)\n",
    "\n",
    "        # Get timestamp in milliseconds\n",
    "        timestamp_ms = int(cap.get(cv2.CAP_PROP_POS_MSEC))\n",
    "\n",
    "        # Run async detection\n",
    "        detector.detect_async(mp_image, timestamp_ms)\n",
    "\n",
    "        # Optionally, display the frame\n",
    "        cv2.imshow('Webcam Feed', frame)\n",
    "        if cv2.waitKey(1) & 0xFF == ord('q'):\n",
    "            break\n",
    "\n",
    "cap.release()\n",
    "cv2.destroyAllWindows()\n"
   ]
  },
  {
   "cell_type": "code",
   "execution_count": null,
   "metadata": {},
   "outputs": [],
   "source": []
  },
  {
   "cell_type": "code",
   "execution_count": null,
   "metadata": {},
   "outputs": [],
   "source": []
  }
 ],
 "metadata": {
  "colab": {
   "provenance": [],
   "toc_visible": true
  },
  "kernelspec": {
   "display_name": "Python [conda env:base] *",
   "language": "python",
   "name": "conda-base-py"
  },
  "language_info": {
   "codemirror_mode": {
    "name": "ipython",
    "version": 3
   },
   "file_extension": ".py",
   "mimetype": "text/x-python",
   "name": "python",
   "nbconvert_exporter": "python",
   "pygments_lexer": "ipython3",
   "version": "3.12.7"
  }
 },
 "nbformat": 4,
 "nbformat_minor": 4
}
